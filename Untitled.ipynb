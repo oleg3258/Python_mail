{
 "cells": [
  {
   "cell_type": "code",
   "execution_count": null,
   "metadata": {
    "collapsed": true
   },
   "outputs": [],
   "source": [
    "#создание сокета, сервер\n",
    "import socket\n",
    "\n",
    "sock = socket.socket(socket.AF_INET, socket.SOCK_STREAM)\n",
    "sock.bind((\"127.0.0.1\", 10001))\n",
    "sock.listen(socket.SOMAXCONN)\n",
    "\n",
    "conn, addr = sock.accept()\n",
    "while True:\n",
    "    data = conn.recv(1024)\n",
    "    if not data:\n",
    "        break\n",
    "    print (data.decode('utf8'))\n",
    "    \n",
    "conn.close()\n",
    "sock.close()"
   ]
  },
  {
   "cell_type": "code",
   "execution_count": null,
   "metadata": {
    "collapsed": true
   },
   "outputs": [],
   "source": [
    "#создание сокета, клиент\n",
    "\n",
    "# sock = socket.socket()\n",
    "# sock.connect((\"127.0.0.1\", 10001))\n",
    "# sock.sendcall(\"ping\".encode(\"utf8\"))\n",
    "# sock.close()\n",
    "\n",
    "#more compact\n",
    "sock = socket.create_connection((\"127.0.0.1\", 10001))\n",
    "sock.sendall(b\"ping\")\n",
    "sock.close()"
   ]
  }
 ],
 "metadata": {
  "kernelspec": {
   "display_name": "Python 2",
   "language": "python",
   "name": "python2"
  },
  "language_info": {
   "codemirror_mode": {
    "name": "ipython",
    "version": 2
   },
   "file_extension": ".py",
   "mimetype": "text/x-python",
   "name": "python",
   "nbconvert_exporter": "python",
   "pygments_lexer": "ipython2",
   "version": "2.7.13"
  }
 },
 "nbformat": 4,
 "nbformat_minor": 2
}
