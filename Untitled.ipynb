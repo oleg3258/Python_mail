{
 "cells": [
  {
   "cell_type": "code",
   "execution_count": 45,
   "metadata": {},
   "outputs": [
    {
     "name": "stdout",
     "output_type": "stream",
     "text": [
      "{'palm.cpu': [(1501864247, 10.5)], 'eardrum.cpu': [(1501864259, 15.3), (1501864258, 16.3)]}\n"
     ]
    }
   ],
   "source": [
    "data = 'ok\\npalm.cpu 10.5 1501864247\\neardrum.cpu 15.3 1501864259\\neardrum.cpu 16.3 1501864258\\n\\n'\n",
    "\n",
    "\n",
    "m = data.split()\n",
    "del m[0]\n",
    "val_dict = {}\n",
    "for i in range(len(m[1:])):\n",
    "    if not m[i][:1].isdigit():\n",
    "        new_tuple = (int(m[i + 2]), float(m[i + 1]))\n",
    "        if (m[i] not in val_dict):\n",
    "            val_dict[m[i]] = []\n",
    "            val_dict[m[i]].append(new_tuple)\n",
    "        else:\n",
    "            val_dict[m[i]].append(new_tuple)\n",
    "    else:\n",
    "        continue\n",
    "    \n",
    "print val_dict\n",
    "    \n",
    "        "
   ]
  },
  {
   "cell_type": "code",
   "execution_count": 30,
   "metadata": {},
   "outputs": [
    {
     "data": {
      "text/plain": [
       "'p'"
      ]
     },
     "execution_count": 30,
     "metadata": {},
     "output_type": "execute_result"
    }
   ],
   "source": [
    "'palm.cpu'[:1]"
   ]
  },
  {
   "cell_type": "code",
   "execution_count": 13,
   "metadata": {
    "scrolled": true
   },
   "outputs": [
    {
     "data": {
      "text/plain": [
       "1"
      ]
     },
     "execution_count": 13,
     "metadata": {},
     "output_type": "execute_result"
    }
   ],
   "source": [
    "new_tuple = (int(m[i + 2]), float(m[i + 1]))\n",
    "        if (m[i] not in val_dict):\n",
    "            val_dict[m[i]] = []\n",
    "            val_dict[m[i]].append(new_tuple)\n",
    "        else:\n",
    "            val_dict[m[i]].append(new_tuple)\n",
    "    else:\n",
    "        continue\n",
    "        \n",
    "print val_dict"
   ]
  },
  {
   "cell_type": "code",
   "execution_count": null,
   "metadata": {
    "collapsed": true
   },
   "outputs": [],
   "source": [
    "#создание сокета, клиент\n",
    "\n",
    "# sock = socket.socket()\n",
    "# sock.connect((\"127.0.0.1\", 10001))\n",
    "# sock.sendcall(\"ping\".encode(\"utf8\"))\n",
    "# sock.close()\n",
    "\n",
    "#more compact\n",
    "sock = socket.create_connection((\"127.0.0.1\", 10001))\n",
    "sock.sendall(b\"ping\")\n",
    "sock.close()"
   ]
  }
 ],
 "metadata": {
  "kernelspec": {
   "display_name": "Python 2",
   "language": "python",
   "name": "python2"
  },
  "language_info": {
   "codemirror_mode": {
    "name": "ipython",
    "version": 2
   },
   "file_extension": ".py",
   "mimetype": "text/x-python",
   "name": "python",
   "nbconvert_exporter": "python",
   "pygments_lexer": "ipython2",
   "version": "2.7.14"
  }
 },
 "nbformat": 4,
 "nbformat_minor": 2
}
